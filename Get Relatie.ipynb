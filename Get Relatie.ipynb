{
 "cells": [
  {
   "cell_type": "code",
   "execution_count": null,
   "metadata": {},
   "outputs": [],
   "source": [
    "import pandas as pd\n",
    "import seaborn as sns\n",
    "import matplotlib.pyplot as plt\n",
    "import nltk\n",
    "import numpy as np\n",
    "import re\n",
    "import time\n",
    "import requests\n",
    "import xmltodict\n",
    "import ast \n"
   ]
  },
  {
   "cell_type": "code",
   "execution_count": null,
   "metadata": {},
   "outputs": [],
   "source": [
    "df = pd.read_csv('asylum_cases_structure.csv')"
   ]
  },
  {
   "cell_type": "code",
   "execution_count": null,
   "metadata": {},
   "outputs": [],
   "source": [
    "DETAILED_LINK_URL = \"https://data.rechtspraak.nl/uitspraken/content?id={}\"\n",
    "\n",
    "def get_ecli_from_detailed_link(detailed_link):\n",
    "    try:\n",
    "        return detailed_link.split(\"=\")[-1]\n",
    "    except:\n",
    "        return None\n",
    "\n",
    "\n",
    "def get_former_relatie_from_called_api(called_api_page):\n",
    "    \n",
    "    doc = xmltodict.parse(called_api_page.text)#     dict_instantie = doc[\"open-rechtspraak\"][\"rdf:RDF\"][\"rdf:Description\"][0][\"psi:Instantie\"]\n",
    "    try:\n",
    "        dict_instantie = doc['open-rechtspraak']['rdf:RDF']['rdf:Description'][0]['dcterms:relation']['@ecli:resourceIdentifier']\n",
    "    except TypeError:\n",
    "        \n",
    "        return 'multiple'\n",
    "    \n",
    "    return dict_instantie\n",
    "\n",
    "def check_multiple_zaaknummers(case):\n",
    "    \n",
    "    ecli_temp = get_ecli_from_detailed_link(case)\n",
    "    detailed_sentence = requests.get(\n",
    "        DETAILED_LINK_URL.format(ecli_temp))\n",
    "    \n",
    "    zaaknummer_temp = get_zaaknummer_from_called_api(detailed_sentence)\n",
    "        \n",
    "    if 'en' in zaaknummer_temp or ',' in zaaknummer_temp:\n",
    "        return True\n",
    "    \n",
    "    return False\n",
    "\n",
    "\n",
    "def get_former_relatie(ecli_code):\n",
    "    \n",
    "    print(ecli_code)\n",
    "        \n",
    "    time.sleep(0.0001)\n",
    "    \n",
    "    ecli_temp = get_ecli_from_detailed_link(ecli_code)\n",
    "    \n",
    "    detailed_sentence = requests.get(\n",
    "            DETAILED_LINK_URL.format(ecli_temp), timeout = 15)\n",
    "    \n",
    "    try:\n",
    "        kenmerken = get_former_relatie_from_called_api(detailed_sentence)\n",
    "    \n",
    "    except IndexError as i:\n",
    "        \n",
    "        kenmerken = \"no former relation\"  \n",
    "        \n",
    "    except KeyError:\n",
    "        \n",
    "        kenmerken = \"no former relation\" \n",
    "        \n",
    "    except requests.exceptions.ReadTimeout as err:\n",
    "        kenmerken = \"no former relation\" \n",
    "    \n",
    "    return kenmerken\n"
   ]
  },
  {
   "cell_type": "code",
   "execution_count": null,
   "metadata": {},
   "outputs": [],
   "source": [
    "df['former_relatie'] = df.case.apply(get_former_relatie)"
   ]
  },
  {
   "cell_type": "code",
   "execution_count": null,
   "metadata": {},
   "outputs": [],
   "source": [
    "df.to_csv('cases_with_relatie.csv')"
   ]
  }
 ],
 "metadata": {
  "kernelspec": {
   "display_name": "Python 3",
   "language": "python",
   "name": "python3"
  },
  "language_info": {
   "codemirror_mode": {
    "name": "ipython",
    "version": 3
   },
   "file_extension": ".py",
   "mimetype": "text/x-python",
   "name": "python",
   "nbconvert_exporter": "python",
   "pygments_lexer": "ipython3",
   "version": "3.8.5"
  }
 },
 "nbformat": 4,
 "nbformat_minor": 4
}

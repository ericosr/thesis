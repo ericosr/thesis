{
 "cells": [
  {
   "cell_type": "code",
   "execution_count": null,
   "metadata": {},
   "outputs": [],
   "source": [
    "import pandas as pd\n",
    "import numpy as np\n",
    "import re\n",
    "import time\n",
    "import requests\n",
    "import xmltodict\n",
    "import ast \n",
    "from nltk.tokenize import sent_tokenize\n",
    "from IPython.display import clear_output\n",
    "import googletrans\n",
    "from googletrans import Translator\n",
    "\n"
   ]
  },
  {
   "cell_type": "code",
   "execution_count": null,
   "metadata": {},
   "outputs": [],
   "source": [
    "#pd.set_option('display.max_colwidth', -1)"
   ]
  },
  {
   "cell_type": "code",
   "execution_count": null,
   "metadata": {},
   "outputs": [],
   "source": [
    "cases_df = pd.read_csv(\"asylum_cases_structure.csv\", index_col=0) "
   ]
  },
  {
   "cell_type": "code",
   "execution_count": null,
   "metadata": {},
   "outputs": [],
   "source": [
    "unstructured_cases_df = pd.read_csv(\"unstructured_with_subsections.csv\", index_col = 0)\n",
    "structured_cases_df = pd.read_csv(\"structured_with_subsections.csv\", lineterminator='\\n',index_col=0)"
   ]
  },
  {
   "cell_type": "code",
   "execution_count": null,
   "metadata": {},
   "outputs": [],
   "source": [
    "combined_df = unstructured_cases_df.append(structured_cases_df, ignore_index = True)"
   ]
  },
  {
   "cell_type": "code",
   "execution_count": null,
   "metadata": {},
   "outputs": [],
   "source": [
    "df = pd.merge(cases_df, combined_df, on = 'case')"
   ]
  },
  {
   "cell_type": "code",
   "execution_count": null,
   "metadata": {},
   "outputs": [],
   "source": [
    "#Regex defined for extracting the decision\n",
    "\n",
    "#Regex for detecting 'gegrond' cases\n",
    "gegrond = (r\"((verklaart)( )?(eiser)?( )?(het|de)( )(hoger)?( )?(beroep|beroepen|verzet|verzoek|bezwaar)( )?\"\n",
    "           r\"(gericht)?( )?(voor het overige)?( )?(om een voorlopige voorziening)?( )?(is)?( )?(kennelijk)?( )?\"\n",
    "           r\"(van eisers|van eiser|van eiseressen|van eiseres)?( )?(tegen|van)?(.*)( )(gegrond)(\\.|\\,|\\;| en|( )))\" \n",
    "           r\"|((vernietigt)( )(het|de)( )(bestreden( )(besluit)))\"\n",
    "           r\"|((wijst( )(het|de)( )?(gevraagde)?( )(verzoek|verzoeken|voorziening)(.*)( )(toe)(\\.|\\,|\\;| en|( ))))\")\n",
    "\n",
    "#Regex for detecting 'ongegrond' cases\n",
    "ongegrond = (r\"((verklaart)( )?(eiser)?( )?(het|de)( )?(hoger)?( )?(beroep|beroepen|verzet|verzoek|bezwaar)( )?\"\n",
    "             r\"(gericht)?( )?(voor het overige)?( )?(om een voorlopige voorziening)?( )?(is)?( )?(kennelijk)?\"\n",
    "             r\"( )?(van eisers|van eiser|van eiseressen|van eiseres)?( )?(tegen|van)?(.*)\"\n",
    "             r\"( )(ongegrond|niet-ontvankelijk|niet ontvankelijk|vervallen)(\\.|\\,|\\;| en|( )))\"\\\n",
    "             r\"|((bevestigt)( )(het|de)( )(aangevallen)( )(uitspraak))\"\n",
    "             r\"|((wijst)( )(het|de)( )(verzoek|verzoeken|herzieningsverzoek)(.*)( )(af)(\\.|\\,|\\;| en|( )))\")\n",
    "\n",
    "\n",
    "\n",
    "gegrond_hoger_beroep = \"(verklaart)( )(eiser)?( )?(het|de)( )(hoger)?( )?(beroep|beroepen|verzet|verzoek|bezwaar)( )(gegrond)\"\n",
    "ongegrond_hoger_beroep = \"(verklaart)( )(eiser)?( )?(het|de)( )(hoger)?( )?(beroep|beroepen|verzet|verzoek|bezwaar)( )(ongegrond|niet-ontvankelijk|niet ontvankelijk|vervallen)\"\n",
    "\n"
   ]
  },
  {
   "cell_type": "code",
   "execution_count": null,
   "metadata": {},
   "outputs": [],
   "source": [
    "\"\"\"Remove all spaces of length > 1\n",
    "and replace them with a single space\"\"\"\n",
    "\n",
    "def removespace(text):\n",
    "    return ' '.join(text.split())\n",
    "\n",
    "df['beslissing'] = df['beslissing'].apply(removespace)"
   ]
  },
  {
   "cell_type": "code",
   "execution_count": null,
   "metadata": {},
   "outputs": [],
   "source": [
    "\"\"\"Cases with multiple decisions are completeley removed\"\"\"\n",
    "\n",
    "gegrond_cases = []\n",
    "ecli_gegrond_cases = []\n",
    "ongegrond_cases = []\n",
    "ecli_ongegrond_cases = []\n",
    "no_match = []\n",
    "remaining = []\n",
    "unique_structure = []\n",
    "test = []\n",
    "\n",
    "for index,row in df.iterrows():\n",
    "    \n",
    "    \n",
    "    count_gegrond = len(re.findall(gegrond, row.beslissing)) \n",
    "    count_ongegrond = len(re.findall(ongegrond, row.beslissing))\n",
    "    count_gegrond_hoger_beroep = len(re.findall(gegrond_hoger_beroep, row.beslissing))\n",
    "    count_ongegrond_hoger_beroep = len(re.findall(ongegrond_hoger_beroep, row.beslissing))\n",
    "    \n",
    "    if 'overwegingen1.' in row.beslissing:\n",
    "        unique_structure.append(index)   \n",
    "        \n",
    "    elif not isinstance(row.procesverloop, str):\n",
    "        unique_structure.append(index)\n",
    "    \n",
    "    elif not isinstance(row.overwegingen, str):\n",
    "        unique_structure.append(index)\n",
    "    \n",
    "    elif count_gegrond == 1 and count_ongegrond == 0:\n",
    "        gegrond_cases.append(index)\n",
    "        ecli_gegrond_cases.append(row.case)\n",
    "        \n",
    "    elif count_gegrond == 0 and count_ongegrond == 1:\n",
    "        ongegrond_cases.append(index)\n",
    "        ecli_ongegrond_cases.append(row.case)\n",
    "        \n",
    "    elif count_gegrond == 0 and count_ongegrond == 0:\n",
    "        no_match.append(index)\n",
    "        \n",
    "    elif count_gegrond_hoger_beroep == 1 and count_ongegrond_hoger_beroep == 0:\n",
    "        gegrond_cases.append(index)\n",
    "        ecli_gegrond_cases.append(row.case)\n",
    "    \n",
    "    elif count_gegrond_hoger_beroep == 0 and count_ongegrond_hoger_beroep == 1:\n",
    "        ongegrond_cases.append(index)\n",
    "        ecli_ongegrond_cases.append(row.case)\n",
    "        \n",
    "    else:\n",
    "        remaining.append(index)"
   ]
  },
  {
   "cell_type": "code",
   "execution_count": null,
   "metadata": {},
   "outputs": [],
   "source": [
    "print(\"gegrond cases: \" + str(len(gegrond_cases)) + \" ongegrond cases: \" + str(len(ongegrond_cases)))\n",
    "print(\"The number of cases are: \" + str(len(df)))"
   ]
  },
  {
   "cell_type": "code",
   "execution_count": null,
   "metadata": {},
   "outputs": [],
   "source": [
    "#Drop those rows with cases that are 'inbetween' or no specific 'gegrond' or 'ongegrond' decision\n",
    "drop_row_indices = unique_structure + no_match + remaining\n",
    "drop_row_indices.sort()    \n",
    "df.drop(df.index[drop_row_indices], inplace = True)"
   ]
  },
  {
   "cell_type": "code",
   "execution_count": null,
   "metadata": {},
   "outputs": [],
   "source": [
    "df.reset_index(drop=True, inplace=True)"
   ]
  },
  {
   "cell_type": "code",
   "execution_count": null,
   "metadata": {},
   "outputs": [],
   "source": [
    "def getoutcome(code):\n",
    "    if code in ecli_gegrond_cases:\n",
    "        return 'gegrond'\n",
    "    elif code in ecli_ongegrond_cases:\n",
    "        return 'ongegrond'\n",
    "\n",
    "def remove_procesverloop(text):\n",
    "    if \"procesverloop\" in text[:25]:\n",
    "        text = text.replace(\"procesverloop\", \"\")\n",
    "    return text\n",
    "\n",
    "def remove_overwegingen(text):\n",
    "    if \"overwegingen1\" in text[:25]:\n",
    "        text = text.replace(\"overwegingen1\", \"\")\n",
    "    elif \"overwegingen\" in text[:25]:\n",
    "        text = text.replace(\"overwegingen\", \"\")\n",
    "    return text"
   ]
  },
  {
   "cell_type": "code",
   "execution_count": null,
   "metadata": {},
   "outputs": [],
   "source": [
    "#Add the outcome column\n",
    "df[\"outcome\"] = np.nan\n",
    "df['outcome'] = df['case'].apply(getoutcome)"
   ]
  },
  {
   "cell_type": "code",
   "execution_count": null,
   "metadata": {},
   "outputs": [],
   "source": [
    "def get_length(text):\n",
    "    return len(text)"
   ]
  },
  {
   "cell_type": "code",
   "execution_count": null,
   "metadata": {},
   "outputs": [],
   "source": [
    "df['length_beslissing'] = np.nan\n",
    "df['length_beslissing'] = df['beslissing'].apply(get_length)"
   ]
  },
  {
   "cell_type": "code",
   "execution_count": null,
   "metadata": {},
   "outputs": [],
   "source": [
    "df['length_processverloop'] = np.nan\n",
    "df['length_processverloop'] = df['procesverloop'].apply(get_length)"
   ]
  },
  {
   "cell_type": "code",
   "execution_count": null,
   "metadata": {},
   "outputs": [],
   "source": [
    "df['length_overwegingen'] = np.nan\n",
    "df['length_overwegingen'] = df['overwegingen'].apply(get_length)"
   ]
  },
  {
   "cell_type": "code",
   "execution_count": null,
   "metadata": {},
   "outputs": [],
   "source": [
    "df['procesverloop'] = df['procesverloop'].apply(remove_procesverloop)\n",
    "df['overwegingen'] = df['overwegingen'].apply(remove_overwegingen)"
   ]
  },
  {
   "cell_type": "code",
   "execution_count": null,
   "metadata": {},
   "outputs": [],
   "source": [
    "non_standard_cases = df[df.length_overwegingen < 100].case.tolist()\n",
    "non_standard_cases = non_standard_cases + df[df.length_overwegingen == df.length_beslissing].case.tolist()"
   ]
  },
  {
   "cell_type": "code",
   "execution_count": null,
   "metadata": {},
   "outputs": [],
   "source": [
    "#Further remove more non-standard cases\n",
    "remove = []\n",
    "for index,row in df.iterrows():\n",
    "    if 'procesverloop' in row.beslissing[:30]:\n",
    "        remove.append(row.case)\n",
    "    elif 'overwe' in row.beslissing[:20]:\n",
    "        remove.append(row.case)"
   ]
  },
  {
   "cell_type": "code",
   "execution_count": null,
   "metadata": {},
   "outputs": [],
   "source": [
    "non_standard_cases = non_standard_cases + remove"
   ]
  },
  {
   "cell_type": "code",
   "execution_count": null,
   "metadata": {},
   "outputs": [],
   "source": [
    "indices_to_drop = []\n",
    "\n",
    "for code in non_standard_cases:\n",
    "    index = df[df.case == code].index.item()\n",
    "    indices_to_drop.append(index)"
   ]
  },
  {
   "cell_type": "code",
   "execution_count": null,
   "metadata": {},
   "outputs": [],
   "source": [
    "#Drop cases with the indices in indices_to_drop\n",
    "df.drop(df.index[indices_to_drop], inplace = True)\n",
    "df.reset_index(drop=True, inplace=True)\n"
   ]
  },
  {
   "cell_type": "code",
   "execution_count": null,
   "metadata": {},
   "outputs": [],
   "source": [
    "df.drop(columns = [\"length_overwegingen\", \"length_processverloop\", \"length_beslissing\"], inplace = True)"
   ]
  },
  {
   "cell_type": "markdown",
   "metadata": {},
   "source": [
    "# Add Procedure and Instantie"
   ]
  },
  {
   "cell_type": "code",
   "execution_count": null,
   "metadata": {},
   "outputs": [],
   "source": [
    "DETAILED_LINK_URL = \"https://data.rechtspraak.nl/uitspraken/content?id={}\"\n",
    "\n",
    "def get_ecli_from_detailed_link(detailed_link):\n",
    "    try:\n",
    "        return detailed_link.split(\"=\")[-1]\n",
    "    except:\n",
    "        return None\n",
    "\n",
    "def get_procedure_from_called_api(called_api_page):\n",
    "    doc = xmltodict.parse(called_api_page.text)\n",
    "    dict_procedure = doc[\"open-rechtspraak\"][\"rdf:RDF\"][\"rdf:Description\"][0][\"psi:procedure\"]\n",
    "    if not isinstance(dict_procedure, list):\n",
    "        return [dict_procedure[\"#text\"]]\n",
    "    else:\n",
    "        s = []\n",
    "        for i in range(0,len(dict_procedure)):\n",
    "            s.append(dict_procedure[i][\"#text\"])\n",
    "            \n",
    "        return s      \n",
    "    \n",
    "    \n",
    "def get_instantie_from_called_api(called_api_page):\n",
    "    doc = xmltodict.parse(called_api_page.text)#     dict_instantie = doc[\"open-rechtspraak\"][\"rdf:RDF\"][\"rdf:Description\"][0][\"psi:Instantie\"]\n",
    "    dict_instantie = doc['open-rechtspraak']['rdf:RDF']['rdf:Description'][0]['dcterms:creator']\n",
    "    if not isinstance(dict_instantie, list):\n",
    "        return [dict_instantie[\"#text\"]]\n",
    "    else:\n",
    "        s = []\n",
    "        for i in range(0,len(dict_instantie)):\n",
    "            s.append(dict_instantie[i][\"#text\"])\n",
    "            \n",
    "        return s      \n",
    "\n",
    "\n",
    "def check_multiple_zaaknummers(case):\n",
    "    \n",
    "    ecli_temp = get_ecli_from_detailed_link(case)\n",
    "    detailed_sentence = requests.get(\n",
    "        DETAILED_LINK_URL.format(ecli_temp))\n",
    "    \n",
    "    zaaknummer_temp = get_zaaknummer_from_called_api(detailed_sentence)\n",
    "        \n",
    "    if 'en' in zaaknummer_temp or ',' in zaaknummer_temp:\n",
    "        return True\n",
    "    \n",
    "    return False\n",
    "\n",
    "def get_procedure(ecli_code):\n",
    "    \n",
    "    time.sleep(0.0001)\n",
    "    \n",
    "    ecli_temp = get_ecli_from_detailed_link(ecli_code)\n",
    "    \n",
    "    detailed_sentence = requests.get(\n",
    "            DETAILED_LINK_URL.format(ecli_temp), timeout = 15)\n",
    "    \n",
    "    try:\n",
    "        kenmerken = get_procedure_from_called_api(detailed_sentence)\n",
    "    \n",
    "    except IndexError as i:\n",
    "        \n",
    "        kenmerken =[\"no procedure\"] \n",
    "        \n",
    "    except KeyError:\n",
    "        \n",
    "        kenmerken = [\"no procedure\"]\n",
    "        \n",
    "    except requests.exceptions.ReadTimeout as err:\n",
    "        kenmerken = [\"no procedure\"]\n",
    "    \n",
    "    return kenmerken\n",
    "\n",
    "def get_instantie(ecli_code):\n",
    "    \n",
    "    time.sleep(0.0001)\n",
    "    \n",
    "    ecli_temp = get_ecli_from_detailed_link(ecli_code)\n",
    "    \n",
    "    detailed_sentence = requests.get(\n",
    "            DETAILED_LINK_URL.format(ecli_temp), timeout = 15)\n",
    "    \n",
    "    try:\n",
    "        kenmerken = get_instantie_from_called_api(detailed_sentence)\n",
    "    \n",
    "    except IndexError as i:\n",
    "        \n",
    "        kenmerken =[\"no instantie\"] \n",
    "        \n",
    "    except KeyError:\n",
    "        \n",
    "        kenmerken = [\"no instantie\"]\n",
    "        \n",
    "    except requests.exceptions.ReadTimeout as err:\n",
    "        kenmerken = [\"no instantie\"]\n",
    "    \n",
    "    return kenmerken\n"
   ]
  },
  {
   "cell_type": "code",
   "execution_count": null,
   "metadata": {},
   "outputs": [],
   "source": [
    "df['procedure'] = df['case'].apply(get_procedure)"
   ]
  },
  {
   "cell_type": "code",
   "execution_count": null,
   "metadata": {},
   "outputs": [],
   "source": [
    "df['instantie'] = df['case'].apply(get_instantie)"
   ]
  },
  {
   "cell_type": "markdown",
   "metadata": {},
   "source": [
    "# Add Case Types"
   ]
  },
  {
   "cell_type": "code",
   "execution_count": null,
   "metadata": {},
   "outputs": [],
   "source": [
    "#Remove cases with multiple high appeals:\n",
    "\n",
    "ecli_multiple_hoger_beroep = []\n",
    "for index,row in df.iterrows():\n",
    "    if 'hoger beroepen' in row.verdict:\n",
    "        ecli_multiple_hoger_beroep.append(index)"
   ]
  },
  {
   "cell_type": "code",
   "execution_count": null,
   "metadata": {},
   "outputs": [],
   "source": [
    "df.drop(df.index[ecli_multiple_hoger_beroep], inplace = True)\n",
    "df.reset_index(drop=True, inplace=True)"
   ]
  },
  {
   "cell_type": "code",
   "execution_count": null,
   "metadata": {},
   "outputs": [],
   "source": [
    "#Remove multiple complaints:\n",
    "\n",
    "ecli_multiple_eisers = []\n",
    "\n",
    "for index,row in df.iterrows():\n",
    "    if 'eiseres 1' in row.verdict or 'eiser 1' in row.verdict:\n",
    "        ecli_multiple_eisers.append(index)"
   ]
  },
  {
   "cell_type": "code",
   "execution_count": null,
   "metadata": {},
   "outputs": [],
   "source": [
    "df.drop(df.index[ecli_multiple_eisers], inplace = True)\n",
    "df.reset_index(drop=True, inplace=True)"
   ]
  },
  {
   "cell_type": "code",
   "execution_count": null,
   "metadata": {},
   "outputs": [],
   "source": [
    "df.drop(columns = ['structured'], inplace = True)\n",
    "df.drop(columns = ['type'], inplace = True)"
   ]
  },
  {
   "cell_type": "code",
   "execution_count": null,
   "metadata": {},
   "outputs": [],
   "source": [
    "def is_hoger_beroep(text):\n",
    "    if 'Hoger beroep' in text:\n",
    "        return 1\n",
    "    else:\n",
    "        return 0\n",
    "\n",
    "def is_bodem_zaak(text):\n",
    "    if 'Bodemzaak' in text or 'bodemzaak' in text:\n",
    "        return 1\n",
    "    else:\n",
    "        return 0\n",
    "    \n",
    "def is_eerste_aanleg_enkelvoudig(text):\n",
    "    if 'Eerste aanleg - enkelvoudig' in text:\n",
    "        return 1\n",
    "    else:\n",
    "        return 0\n",
    "    \n",
    "def is_eerste_aanleg_meervoudig(text):\n",
    "    if 'Eerste aanleg - meervoudig' in text:\n",
    "        return 1\n",
    "    else:\n",
    "        return 0\n",
    "    \n",
    "def is_vorloopige_vooziening(text):\n",
    "    if 'Voorlopige voorziening' in text:\n",
    "        return 1\n",
    "    else:\n",
    "        return 0    \n",
    "    \n",
    "def is_mondelinge_uitspraak(text):\n",
    "    if 'Mondelinge uitspraak' in text:\n",
    "        return 1\n",
    "    else:\n",
    "        return 0 \n",
    "    \n"
   ]
  },
  {
   "cell_type": "code",
   "execution_count": null,
   "metadata": {},
   "outputs": [],
   "source": [
    "df['hoger_beroep'] = df['procedure'].apply(is_hoger_beroep)"
   ]
  },
  {
   "cell_type": "code",
   "execution_count": null,
   "metadata": {},
   "outputs": [],
   "source": [
    "df['bodem_zaak'] = df['procedure'].apply(is_bodem_zaak)"
   ]
  },
  {
   "cell_type": "code",
   "execution_count": null,
   "metadata": {},
   "outputs": [],
   "source": [
    "df['eerste_aanleg_enkelvoudig'] = df['procedure'].apply(is_eerste_aanleg_enkelvoudig)"
   ]
  },
  {
   "cell_type": "code",
   "execution_count": null,
   "metadata": {},
   "outputs": [],
   "source": [
    "df['eerste_aanleg_meervoudig'] = df['procedure'].apply(is_eerste_aanleg_meervoudig)"
   ]
  },
  {
   "cell_type": "code",
   "execution_count": null,
   "metadata": {},
   "outputs": [],
   "source": [
    "df['vorloopige_vooziening'] = df['procedure'].apply(is_vorloopige_vooziening)"
   ]
  },
  {
   "cell_type": "code",
   "execution_count": null,
   "metadata": {},
   "outputs": [],
   "source": [
    "df['mondelinge_uitspraak'] = df['procedure'].apply(is_mondelinge_uitspraak)"
   ]
  },
  {
   "cell_type": "code",
   "execution_count": null,
   "metadata": {},
   "outputs": [],
   "source": [
    "l1 = (df[df.hoger_beroep + df.vorloopige_vooziening > 1]).index.tolist()\n",
    "l2 = (df[df.bodem_zaak + df.vorloopige_vooziening > 1]).index.tolist()\n",
    "l3 = (df[df.eerste_aanleg_enkelvoudig + df.vorloopige_vooziening > 1]).index.tolist()\n",
    "l4 = (df[df.eerste_aanleg_meervoudig + df.vorloopige_vooziening > 1]).index.tolist()\n",
    "l5 = (df[df.mondelinge_uitspraak + df.vorloopige_vooziening > 1]).index.tolist()\n",
    "\n",
    "cases_multiple = l1 + l2 + l3 + l4 + l5 "
   ]
  },
  {
   "cell_type": "code",
   "execution_count": null,
   "metadata": {},
   "outputs": [],
   "source": [
    "df.drop(df.index[cases_multiple], inplace = True)\n",
    "df.reset_index(drop=True, inplace=True)"
   ]
  },
  {
   "cell_type": "code",
   "execution_count": null,
   "metadata": {},
   "outputs": [],
   "source": [
    "#df.to_csv(\"df_outcome_procedure_instantie.csv\")"
   ]
  }
 ],
 "metadata": {
  "kernelspec": {
   "display_name": "Python 3",
   "language": "python",
   "name": "python3"
  },
  "language_info": {
   "codemirror_mode": {
    "name": "ipython",
    "version": 3
   },
   "file_extension": ".py",
   "mimetype": "text/x-python",
   "name": "python",
   "nbconvert_exporter": "python",
   "pygments_lexer": "ipython3",
   "version": "3.8.5"
  }
 },
 "nbformat": 4,
 "nbformat_minor": 4
}

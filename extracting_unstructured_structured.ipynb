{
 "cells": [
  {
   "cell_type": "code",
   "execution_count": null,
   "metadata": {},
   "outputs": [],
   "source": [
    "import pandas as pd\n",
    "import numpy as np\n",
    "import re\n",
    "import requests\n",
    "import xmltodict\n",
    "import time\n",
    "import pickle"
   ]
  },
  {
   "cell_type": "code",
   "execution_count": null,
   "metadata": {},
   "outputs": [],
   "source": [
    "dataset = pd.read_csv(\"assylum_cases.csv\")"
   ]
  },
  {
   "cell_type": "code",
   "execution_count": null,
   "metadata": {},
   "outputs": [],
   "source": [
    "#Add year column to the dataframe\n",
    "dataset['year'] = dataset.apply(lambda row: (re.search(\"\\d\\d\\d\\d\", row.case))[0], axis=1)"
   ]
  },
  {
   "cell_type": "code",
   "execution_count": null,
   "metadata": {},
   "outputs": [],
   "source": [
    "def get_text_zaaknummer_ecli_given_list(ECLI_list):\n",
    "    \n",
    "    DETAILED_LINK_URL = \"https://data.rechtspraak.nl/uitspraken/content?id={}\"\n",
    "    detailed_link_list = [ecli for ecli in ECLI_list]\n",
    "\n",
    "    \n",
    "    for detailed_link in detailed_link_list:\n",
    "        ecli_temp = get_ecli_from_detailed_link(detailed_link)\n",
    "        detailed_sentence = requests.get(\n",
    "            DETAILED_LINK_URL.format(ecli_temp))\n",
    "        \n",
    "    return detailed_sentence\n",
    "    \n",
    "\n",
    "\n",
    "def get_ecli_from_detailed_link(detailed_link):\n",
    "    try:\n",
    "        return detailed_link.split(\"=\")[-1]\n",
    "    except:\n",
    "        return None\n",
    "    \n",
    "def get_zaaknummer_from_called_api(called_api_page):\n",
    "    doc = xmltodict.parse(called_api_page.text)\n",
    "    return \\\n",
    "        doc[\"open-rechtspraak\"][\"rdf:RDF\"][\"rdf:Description\"][0][\"psi:zaaknummer\"][\"#text\"]    \n",
    "\n"
   ]
  },
  {
   "cell_type": "code",
   "execution_count": null,
   "metadata": {},
   "outputs": [],
   "source": [
    "#Extract cases where titles are labeled\n",
    "\n",
    "structured_cases = []\n",
    "\n",
    "for i in range(len(ECLI_list) - 1): \n",
    "    print (i, end=\"\\r\")\n",
    "    detailed_sentence = get_text_zaaknummer_ecli_given_list(ECLI_list[i:i+1])\n",
    "    if '<title>' in detailed_sentence.text:\n",
    "        structured_cases.append(i)    \n",
    "    time.sleep(0.1)\n",
    "        "
   ]
  },
  {
   "cell_type": "code",
   "execution_count": null,
   "metadata": {},
   "outputs": [],
   "source": [
    "# with open(\"structured.txt\", \"wb\") as fp:   #Pickling\n",
    "#     pickle.dump(structured_cases, fp)"
   ]
  },
  {
   "cell_type": "code",
   "execution_count": null,
   "metadata": {},
   "outputs": [],
   "source": [
    "with open(\"structured.txt\", \"rb\") as fp:   # Unpickling\n",
    "    structured_case_ids = pickle.load(fp)"
   ]
  },
  {
   "cell_type": "code",
   "execution_count": null,
   "metadata": {},
   "outputs": [],
   "source": [
    "len(structured_case_ids)"
   ]
  },
  {
   "cell_type": "code",
   "execution_count": null,
   "metadata": {},
   "outputs": [],
   "source": [
    "structured_cases_dataset = dataset\n",
    "structured_cases_dataset['structured'] = np.NAN\n"
   ]
  },
  {
   "cell_type": "code",
   "execution_count": null,
   "metadata": {},
   "outputs": [],
   "source": [
    "for index, row in structured_cases_dataset.iterrows():\n",
    "    if index in structured_case_ids:\n",
    "        structured_cases_dataset.at[index,'structured'] = 1\n",
    "    else:\n",
    "        structured_cases_dataset.at[index,'structured'] = 0"
   ]
  },
  {
   "cell_type": "code",
   "execution_count": null,
   "metadata": {},
   "outputs": [],
   "source": [
    "structured_cases_dataset.to_csv(\"asylum_cases_structure.csv\")"
   ]
  },
  {
   "cell_type": "code",
   "execution_count": null,
   "metadata": {},
   "outputs": [],
   "source": []
  }
 ],
 "metadata": {
  "kernelspec": {
   "display_name": "Python 3",
   "language": "python",
   "name": "python3"
  },
  "language_info": {
   "codemirror_mode": {
    "name": "ipython",
    "version": 3
   },
   "file_extension": ".py",
   "mimetype": "text/x-python",
   "name": "python",
   "nbconvert_exporter": "python",
   "pygments_lexer": "ipython3",
   "version": "3.8.5"
  }
 },
 "nbformat": 4,
 "nbformat_minor": 2
}

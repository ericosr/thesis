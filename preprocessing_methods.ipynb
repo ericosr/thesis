{
 "cells": [
  {
   "cell_type": "code",
   "execution_count": null,
   "metadata": {},
   "outputs": [],
   "source": [
    "def get_detailed_sentence(ECLI):\n",
    "    DETAILED_LINK_URL = \"https://data.rechtspraak.nl/uitspraken/content?id={}\"\n",
    "\n",
    "\n",
    "    detailed_sentence = requests.get(\n",
    "            #DETAILED_LINK_URL.format(ecli_temp), timeout=15)\n",
    "            DETAILED_LINK_URL.format(ECLI))\n",
    "    return detailed_sentence\n"
   ]
  },
  {
   "cell_type": "code",
   "execution_count": null,
   "metadata": {},
   "outputs": [],
   "source": [
    "def get_html_from_detailed_link(called_api_page):\n",
    "    try:\n",
    "        detailed_page_element_tree = html.fromstring(called_api_page.content)\n",
    "    except Exception as e:\n",
    "        print(\"{error} happend\".format(error=e))\n",
    "    return detailed_page_element_tree"
   ]
  },
  {
   "cell_type": "code",
   "execution_count": null,
   "metadata": {},
   "outputs": [],
   "source": [
    "def get_ecli_from_detailed_link(detailed_link):\n",
    "    try:\n",
    "        return detailed_link.split(\"=\")[-1]\n",
    "    except:\n",
    "        return None"
   ]
  },
  {
   "cell_type": "code",
   "execution_count": null,
   "metadata": {},
   "outputs": [],
   "source": [
    "def find_index(regex, text, beslissing = True):\n",
    "    \n",
    "    match = re.search(regex,text)\n",
    "    if not match:\n",
    "        return \"no_index_found\"\n",
    "    \n",
    "    if not beslissing:\n",
    "        return match.end(), match.start()\n",
    "    \n",
    "    else:\n",
    "        \n",
    "        match2 = re.search(regex, text[match.end()+1:])\n",
    "        if not match2:\n",
    "            return (match.end(), match.start())\n",
    "        else:\n",
    "            return (match.end() + 1 + match2.end(),  match.end() + 1 + match2.start()) \n",
    "        "
   ]
  },
  {
   "cell_type": "code",
   "execution_count": null,
   "metadata": {},
   "outputs": [],
   "source": [
    "def get_index(string, l):\n",
    "    for index,x in enumerate(l):\n",
    "        for y in string:\n",
    "            if y in x:\n",
    "                return index  \n",
    "            \n",
    "    return \"no_index_found\""
   ]
  }
 ],
 "metadata": {
  "kernelspec": {
   "display_name": "Python 3",
   "language": "python",
   "name": "python3"
  },
  "language_info": {
   "codemirror_mode": {
    "name": "ipython",
    "version": 3
   },
   "file_extension": ".py",
   "mimetype": "text/x-python",
   "name": "python",
   "nbconvert_exporter": "python",
   "pygments_lexer": "ipython3",
   "version": "3.8.5"
  }
 },
 "nbformat": 4,
 "nbformat_minor": 2
}

{
 "cells": [
  {
   "cell_type": "code",
   "execution_count": null,
   "metadata": {},
   "outputs": [],
   "source": [
    "import utils\n",
    "from get_bert import *\n",
    "import pandas as pd\n",
    "from nltk import word_tokenize\n",
    "from nltk.corpus import stopwords\n",
    "\n",
    "\n",
    "data_path = 'data/court_cases/'\n",
    "test = pd.read_csv(data_path+'test.tsv',sep='\\t')\n",
    "test_aligned = pd.read_csv(data_path+'test_aligned.tsv',sep='\\t')\n",
    "ROOT_PATH = 'models/'"
   ]
  },
  {
   "cell_type": "code",
   "execution_count": null,
   "metadata": {},
   "outputs": [],
   "source": [
    "test_tokens = list(test.sent.values)\n",
    "att_weights = get_layer_att_weights('court_cases', 11)\n",
    "att_weights = get_avg_att_weights(test_tokens, att_weights)"
   ]
  },
  {
   "cell_type": "code",
   "execution_count": null,
   "metadata": {},
   "outputs": [],
   "source": [
    "feature_importance_list = []\n",
    "for c,_ in enumerate(test_tokens):\n",
    "    loop_df = pd.concat([\n",
    "                            pd.DataFrame({'Features':test_tokens[c].split(' ')}),\n",
    "                            pd.DataFrame({'Importance' : att_weights[c][np.nonzero(att_weights[c])[0]][1:-1]}),\n",
    "                            \n",
    "                        ],axis=1)\n",
    "    loop_df = loop_df.dropna(subset=['Features']).reset_index(drop=True)\n",
    "    loop_df = loop_df[~(loop_df.Features.str.startswith('##'))]\n",
    "    loop_df = loop_df.reset_index(drop=True)\n",
    "    loop_df = pd.concat([loop_df,\n",
    "                        pd.DataFrame({'FeatureAligned': word_tokenize(test_aligned.sentence[c])})],axis=1)\n",
    "    feature_importance_list.append(loop_df)\n",
    "    \n",
    "feature_importance_df = pd.concat(feature_importance_list)"
   ]
  },
  {
   "cell_type": "code",
   "execution_count": null,
   "metadata": {},
   "outputs": [],
   "source": [
    "ROOT_PATH = '../features/'\n",
    "feature_importance_df.iloc[:,1:].to_csv(ROOT_PATH+'bert_1_1_500_words.csv',index=False)"
   ]
  },
  {
   "cell_type": "code",
   "execution_count": null,
   "metadata": {},
   "outputs": [],
   "source": [
    "import numpy as np"
   ]
  },
  {
   "cell_type": "code",
   "execution_count": null,
   "metadata": {},
   "outputs": [],
   "source": [
    "span_name = 'court_cases'\n",
    "path = 'data/SHAP_features/{}-bert-shap.npy'.format(span_name)\n",
    "att_weights = np.load(path)"
   ]
  },
  {
   "cell_type": "code",
   "execution_count": null,
   "metadata": {},
   "outputs": [],
   "source": [
    "bp.load(path)"
   ]
  },
  {
   "cell_type": "code",
   "execution_count": null,
   "metadata": {},
   "outputs": [],
   "source": [
    "feature_importance_list = []\n",
    "for c,_ in enumerate(test_tokens):\n",
    "    loop_df = pd.concat([\n",
    "                            pd.DataFrame({'Features':test_tokens[c].split(' ')}),\n",
    "                            pd.DataFrame({'Importance' : att_weights[c][0][np.nonzero(att_weights[c][0])[0]][1:-1]}),\n",
    "                            \n",
    "                        ],axis=1)\n",
    "    loop_df = loop_df.dropna(subset=['Features']).reset_index(drop=True)\n",
    "    loop_df = loop_df[~(loop_df.Features.str.startswith('##'))]\n",
    "    loop_df = loop_df.reset_index(drop=True)\n",
    "    loop_df = pd.concat([loop_df,\n",
    "                        pd.DataFrame({'FeatureAligned': word_tokenize(test_aligned.sentence[c])})],axis=1)\n",
    "    feature_importance_list.append(loop_df)\n",
    "    \n",
    "feature_importance_df = pd.concat(feature_importance_list)"
   ]
  },
  {
   "cell_type": "code",
   "execution_count": null,
   "metadata": {},
   "outputs": [],
   "source": [
    "feature_importance_df.Importance = feature_importance_df.Importance.apply(abs)"
   ]
  },
  {
   "cell_type": "code",
   "execution_count": null,
   "metadata": {},
   "outputs": [],
   "source": [
    "ROOT_PATH = '../features/'\n",
    "feature_importance_df.iloc[:,1:].to_csv(ROOT_PATH+'bert_shap_1_1_500_words.csv',index=False)"
   ]
  }
 ],
 "metadata": {
  "kernelspec": {
   "display_name": "Python 3",
   "language": "python",
   "name": "python3"
  },
  "language_info": {
   "codemirror_mode": {
    "name": "ipython",
    "version": 3
   },
   "file_extension": ".py",
   "mimetype": "text/x-python",
   "name": "python",
   "nbconvert_exporter": "python",
   "pygments_lexer": "ipython3",
   "version": "3.8.5"
  }
 },
 "nbformat": 4,
 "nbformat_minor": 2
}

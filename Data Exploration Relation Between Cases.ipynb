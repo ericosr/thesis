{
 "cells": [
  {
   "cell_type": "code",
   "execution_count": 1,
   "metadata": {},
   "outputs": [],
   "source": [
    "import pandas as pd\n",
    "import numpy as np"
   ]
  },
  {
   "cell_type": "code",
   "execution_count": 7,
   "metadata": {},
   "outputs": [],
   "source": [
    "df = pd.read_csv('dec_with_procedure.csv', lineterminator='\\n', index_col=0)\n",
    "d_old = pd.read_csv(\"final_dataset_october_III.csv\",lineterminator='\\n', index_col=0)"
   ]
  },
  {
   "cell_type": "code",
   "execution_count": 13,
   "metadata": {},
   "outputs": [],
   "source": [
    "d = pd.read_csv(\"final_with_relation.csv\",lineterminator='\\n', index_col=0)"
   ]
  },
  {
   "cell_type": "code",
   "execution_count": null,
   "metadata": {},
   "outputs": [],
   "source": [
    "df.instantie.value_counts()"
   ]
  },
  {
   "cell_type": "code",
   "execution_count": null,
   "metadata": {},
   "outputs": [],
   "source": [
    "import matplotlib.pyplot as plt\n",
    "fig1, ax1 = plt.subplots()\n",
    "\n",
    "# Pie chart\n",
    "labels = [\"Rechtbank 's-Gravenhage/Rechtbank Den Haag\",'Other', 'Raad Van State']\n",
    "sizes = [63.20,1.35, 35.45]\n",
    "\n",
    "colors = ['#66b3ff','#ff9999','#ffcc99']\n",
    "\n",
    " \n",
    "ax1.pie(sizes, colors = colors, labels=labels, autopct='%1.1f%%', startangle=90)\n",
    "#draw circle\n",
    "centre_circle = plt.Circle((0,0),0.70,fc='white')\n",
    "fig = plt.gcf()\n",
    "fig.gca().add_artist(centre_circle)\n",
    "# Equal aspect ratio ensures that pie is drawn as a circle\n",
    "ax1.axis('equal')  \n",
    "plt.tight_layout()\n",
    "plt.show()"
   ]
  },
  {
   "cell_type": "code",
   "execution_count": null,
   "metadata": {},
   "outputs": [],
   "source": [
    "import matplotlib.pyplot as plt\n",
    "fig1, ax1 = plt.subplots()\n",
    "\n",
    "# Pie chart\n",
    "labels = [\"Eerste Aanleg Enkelvoudig\",'Eerste Aanleg Meervoudig', 'Hoger Beroep']\n",
    "sizes = [48.5,11.80, 39.90]\n",
    "#colors\n",
    "colors = ['#66b3ff','#ff9999','#ffcc99']\n",
    " \n",
    "ax1.pie(sizes, colors = colors, labels=labels, autopct='%1.1f%%', startangle=90)\n",
    "#draw circle\n",
    "centre_circle = plt.Circle((0,0),0.70,fc='white')\n",
    "fig = plt.gcf()\n",
    "fig.gca().add_artist(centre_circle)\n",
    "# Equal aspect ratio ensures that pie is drawn as a circle\n",
    "ax1.axis('equal')  \n",
    "plt.tight_layout()\n",
    "plt.show()"
   ]
  },
  {
   "cell_type": "code",
   "execution_count": 14,
   "metadata": {},
   "outputs": [],
   "source": [
    "l = []\n",
    "for index,row in d.iterrows():\n",
    "    if row.former_relatie != \"no former relation\":\n",
    "        l.append(row.case)"
   ]
  },
  {
   "cell_type": "code",
   "execution_count": 16,
   "metadata": {},
   "outputs": [
    {
     "data": {
      "text/plain": [
       "3577"
      ]
     },
     "execution_count": 16,
     "metadata": {},
     "output_type": "execute_result"
    }
   ],
   "source": [
    "len(l)"
   ]
  },
  {
   "cell_type": "code",
   "execution_count": 17,
   "metadata": {},
   "outputs": [],
   "source": [
    "l_has_both = []\n",
    "\n",
    "for index,row in d.iterrows():\n",
    "    if row.case in l:\n",
    "        l_has_both.append(row.case)"
   ]
  },
  {
   "cell_type": "code",
   "execution_count": 18,
   "metadata": {},
   "outputs": [],
   "source": [
    "cases = d.case.to_list()\n",
    "\n",
    "l = []\n",
    "for index,row in d.iterrows():\n",
    "    if row.former_relatie != \"no former relation\" and row.former_relatie != \"multiple\":\n",
    "        if row.former_relatie in cases:\n",
    "            l.append((row.case, row.former_relatie))\n"
   ]
  },
  {
   "cell_type": "code",
   "execution_count": 19,
   "metadata": {},
   "outputs": [],
   "source": [
    "unique_pairs = {tuple(sorted(p)) for p in l}"
   ]
  },
  {
   "cell_type": "code",
   "execution_count": 20,
   "metadata": {},
   "outputs": [
    {
     "data": {
      "text/plain": [
       "601"
      ]
     },
     "execution_count": 20,
     "metadata": {},
     "output_type": "execute_result"
    }
   ],
   "source": [
    "len(unique_pairs)"
   ]
  },
  {
   "cell_type": "code",
   "execution_count": 21,
   "metadata": {},
   "outputs": [],
   "source": [
    "l_set = []\n",
    "for item in l:\n",
    "    l_set.append(set(item))"
   ]
  },
  {
   "cell_type": "code",
   "execution_count": 22,
   "metadata": {},
   "outputs": [],
   "source": [
    "unique_pairs = {tuple(sorted(p)) for p in l}"
   ]
  },
  {
   "cell_type": "code",
   "execution_count": 42,
   "metadata": {},
   "outputs": [],
   "source": [
    "outcomes = []\n",
    "\n",
    "cases = d_old.case.to_list()\n",
    "\n",
    "reduced_unique_pairs = []\n",
    "\n",
    "for pair in unique_pairs:\n",
    "    if pair[0] not in cases or pair[1] not in cases:\n",
    "        pass\n",
    "    else:\n",
    "        reduced_unique_pairs.append(pair)\n",
    "    \n",
    "    \n",
    "\n",
    "for pair in reduced_unique_pairs:\n",
    "    n = d_old[d_old.case == pair[0]].outcome.item()\n",
    "    l = d_old[d_old.case == pair[1]].outcome.item()\n",
    "\n",
    "    outcomes.append((n,l))\n",
    "        \n",
    "    \n"
   ]
  },
  {
   "cell_type": "code",
   "execution_count": 46,
   "metadata": {},
   "outputs": [],
   "source": [
    "outcomes_l = []\n",
    "\n",
    "for item in outcomes:\n",
    "    outcomes_l.append(list(item))"
   ]
  },
  {
   "cell_type": "code",
   "execution_count": 51,
   "metadata": {},
   "outputs": [],
   "source": [
    "gg = 0\n",
    "kk = []\n",
    "og = 0\n",
    "go = 0\n",
    "oo = 0\n",
    "\n",
    "for item in outcomes_l:\n",
    "    if item[0] == 'gegrond' and item[1] == 'gegrond':\n",
    "        kk.append(item)\n",
    "        gg += 1\n",
    "    elif item[0] == 'ongegrond' and item[1] == 'gegrond':\n",
    "        og += 1\n",
    "    elif item[0] == 'gegrond' and item[1] == 'ongegrond':\n",
    "        go += 1\n",
    "    elif item[0] == 'ongegrond' and item[1] == 'ongegrond':\n",
    "        oo += 1"
   ]
  },
  {
   "cell_type": "code",
   "execution_count": 60,
   "metadata": {},
   "outputs": [
    {
     "data": {
      "text/plain": [
       "229"
      ]
     },
     "execution_count": 60,
     "metadata": {},
     "output_type": "execute_result"
    }
   ],
   "source": [
    "gg"
   ]
  },
  {
   "cell_type": "code",
   "execution_count": 61,
   "metadata": {},
   "outputs": [
    {
     "data": {
      "text/plain": [
       "43"
      ]
     },
     "execution_count": 61,
     "metadata": {},
     "output_type": "execute_result"
    }
   ],
   "source": [
    "go"
   ]
  },
  {
   "cell_type": "code",
   "execution_count": 62,
   "metadata": {},
   "outputs": [
    {
     "data": {
      "text/plain": [
       "28"
      ]
     },
     "execution_count": 62,
     "metadata": {},
     "output_type": "execute_result"
    }
   ],
   "source": [
    "og"
   ]
  },
  {
   "cell_type": "code",
   "execution_count": 63,
   "metadata": {},
   "outputs": [
    {
     "data": {
      "text/plain": [
       "44"
      ]
     },
     "execution_count": 63,
     "metadata": {},
     "output_type": "execute_result"
    }
   ],
   "source": [
    "oo"
   ]
  },
  {
   "cell_type": "code",
   "execution_count": 56,
   "metadata": {},
   "outputs": [
    {
     "data": {
      "text/plain": [
       "66.56976744186046"
      ]
     },
     "execution_count": 56,
     "metadata": {},
     "output_type": "execute_result"
    }
   ],
   "source": [
    "gg/344*100"
   ]
  },
  {
   "cell_type": "code",
   "execution_count": 57,
   "metadata": {},
   "outputs": [
    {
     "data": {
      "text/plain": [
       "8.13953488372093"
      ]
     },
     "execution_count": 57,
     "metadata": {},
     "output_type": "execute_result"
    }
   ],
   "source": [
    "og/344*100"
   ]
  },
  {
   "cell_type": "code",
   "execution_count": 59,
   "metadata": {},
   "outputs": [
    {
     "data": {
      "text/plain": [
       "12.790697674418606"
      ]
     },
     "execution_count": 59,
     "metadata": {},
     "output_type": "execute_result"
    }
   ],
   "source": [
    "oo/344*100"
   ]
  },
  {
   "cell_type": "code",
   "execution_count": null,
   "metadata": {},
   "outputs": [],
   "source": [
    "outcomes = []\n",
    "\n",
    "cases = d_old.case.to_list()\n",
    "\n",
    "reduced_unique_pairs = []\n",
    "\n",
    "\n",
    "for pair in unique_pairs:\n",
    "    if pair[0] not in cases or pair[1] not in cases:\n",
    "        continue\n",
    "    else:\n",
    "        reduced_unique_pairs.append(pair)\n",
    "\n",
    "\n",
    "for pair in reduced_unique_pairs:\n",
    "    print(pair)\n",
    "    n = d_old[d_old.case == pair[0]].outcome.item()\n",
    "    l = d_old[d_old.case == pair[1]].outcome.item()\n",
    "\n",
    "    outcomes.append((n,l))\n",
    "        \n",
    "    "
   ]
  }
 ],
 "metadata": {
  "kernelspec": {
   "display_name": "Python 3",
   "language": "python",
   "name": "python3"
  },
  "language_info": {
   "codemirror_mode": {
    "name": "ipython",
    "version": 3
   },
   "file_extension": ".py",
   "mimetype": "text/x-python",
   "name": "python",
   "nbconvert_exporter": "python",
   "pygments_lexer": "ipython3",
   "version": "3.8.5"
  }
 },
 "nbformat": 4,
 "nbformat_minor": 4
}

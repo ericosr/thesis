{
 "cells": [
  {
   "cell_type": "code",
   "execution_count": null,
   "metadata": {},
   "outputs": [],
   "source": [
    "import pandas as pd\n",
    "import numpy as np\n",
    "import sklearn.ensemble\n",
    "import re\n",
    "from nltk.corpus import stopwords\n",
    "from sklearn.model_selection import train_test_split,StratifiedKFold\n",
    "from sklearn.feature_extraction.text import TfidfVectorizer\n",
    "from sklearn.pipeline import make_pipeline\n",
    "from sklearn.model_selection import RandomizedSearchCV\n",
    "import lime\n",
    "from imblearn.under_sampling import RandomUnderSampler\n",
    "from sklearn.svm import LinearSVC\n",
    "from xgboost import XGBClassifier\n",
    "import warnings\n",
    "import joblib\n",
    "warnings.filterwarnings(\"ignore\")\n",
    "%matplotlib inline\n"
   ]
  },
  {
   "cell_type": "code",
   "execution_count": null,
   "metadata": {},
   "outputs": [],
   "source": [
    "import html,nltk\n",
    "from nltk.corpus import wordnet \n",
    "from collections import Counter \n",
    "from string import digits\n",
    "\n",
    "def text_cleaning(text, escape_list=[], stop=[]):\n",
    "    \"\"\"\n",
    "    Text cleaning function:\n",
    "    \"\"\"\n",
    "    text=text.lower()\n",
    "    StopWords = list(set(stopwords.words('dutch')))\n",
    "    custom_stop = StopWords + stop\n",
    "    text = html.unescape(text)\n",
    "    text = re.sub('[^A-Za-z]+', ' ', text)\n",
    "    text=text.replace('/',' ').replace('?',' ').replace(',',' ').replace('\\'',' ')\n",
    "    tokens=nltk.word_tokenize(text)\n",
    "    tokens=([token for token in tokens if token not in custom_stop]) \n",
    "    return ' '.join(tokens)\n"
   ]
  },
  {
   "cell_type": "code",
   "execution_count": null,
   "metadata": {},
   "outputs": [],
   "source": [
    "#Load data\n",
    "df = pd.read_csv(\"../data/court_cases.csv\", lineterminator='\\n', index_col=0)\n",
    "df['Full Text'] = df['process'] + ' ' + df['considerations']\n",
    "df.dropna(subset=['Full Text'],inplace=True)\n",
    "df = df.sample(frac=1).reset_index(drop=True).copy()\n",
    "df['Full Text'] = df['Full Text'].apply(text_cleaning)"
   ]
  },
  {
   "cell_type": "code",
   "execution_count": null,
   "metadata": {},
   "outputs": [],
   "source": [
    "df_full = df\n",
    "rus = RandomUnderSampler(random_state=42)\n",
    "X= df[['process', 'considerations', 'instance','Full Text']]\n",
    "y = df[['outcome']]\n",
    "X_rus, y_rus = rus.fit_resample(X,y)\n",
    "X_rus['outcome'] = y_rus\n",
    "df_full = X_rus"
   ]
  },
  {
   "cell_type": "markdown",
   "metadata": {},
   "source": [
    "#### Full dataset"
   ]
  },
  {
   "cell_type": "code",
   "execution_count": null,
   "metadata": {},
   "outputs": [],
   "source": [
    "X,y = df_full['Full Text'], df_full.outcome"
   ]
  },
  {
   "cell_type": "code",
   "execution_count": null,
   "metadata": {},
   "outputs": [],
   "source": [
    "params = {\n",
    "    'tfidf__max_df': (0.25, 0.5, 0.75),\n",
    "    'tfidf__ngram_range': [(1, 1), (1, 2), (1, 3)],\n",
    "    'svm__C': [0.001,0.01,0.1,1,10,100,1000],\n",
    "}\n",
    "\n",
    "tfidf = TfidfVectorizer(sublinear_tf=True, norm='l2')\n",
    "svm = LinearSVC(random_state=42)\n",
    "pipeline = Pipeline(steps = [('tfidf',tfidf),('svm',svm)])\n",
    "skf_cv = StratifiedKFold(n_splits=5, random_state = 42)\n",
    "rsc = RandomizedSearchCV(pipeline,params,c v= skf_cv,scoring='accuracy', random_state=42,n_jobs=-1)\n",
    "rsc.fit(X,y)\n",
    "print(f'Best CrossValidated accuracy achieved via SVM is : {round(rsc.best_score_*100,2)} %')\n",
    "# Best params for SVM is: \n",
    "rsc.best_params_"
   ]
  },
  {
   "cell_type": "code",
   "execution_count": null,
   "metadata": {},
   "outputs": [],
   "source": [
    "params_xgb = {\n",
    "    'tfidf__max_df': (0.25, 0.5, 0.75),\n",
    "    'tfidf__ngram_range': [(1, 1), (1, 2), (1, 3)],\n",
    "    'xgb__eta': [0.01,0.015,0.025,0.05, 0.1],\n",
    "    'xgb__gamma':[0.05,.1,.3,.5,.7,.9,1],\n",
    "    'xgb__max_depth' : [3,5,7,9,12,15,17,25,50,100],\n",
    "    'xgb__min_child_weight' : [1,3,5,7],\n",
    "    'xgb__subsample' : [0.6,.7,.8,.9,1],\n",
    "    'xgb__colsample_bytree' : [.6,.7,.8,.9,1],\n",
    "    'xgb__lambda' : [0.01,.1,1],\n",
    "    'xgb__alpha': [0,.1,.5,1]\n",
    "}\n",
    "\n",
    "tfidf = TfidfVectorizer(sublinear_tf=True, norm='l2')\n",
    "xgb = XGBClassifier(TREE_METHOD = 'gpu_hist', random_state=42)\n",
    "pipeline_xgb = Pipeline(steps = [('tfidf',tfidf),('xgb',xgb)])\n",
    "skf_cv = StratifiedKFold(n_splits=5, random_state = 42)\n",
    "rsc_xgb = RandomizedSearchCV(pipeline_xgb,params_xgb,cv= skf_cv,scoring='accuracy', random_state=42,n_jobs=-1)\n",
    "rsc_xgb.fit(X,y)\n",
    "print(f'Best CrossValidated accuracy achieved via XGBoost is : {round(rsc_xgb.best_score_*100,2)} %\\n')\n",
    "# Best params for XGBoost is: \n",
    "rsc.best_params_"
   ]
  },
  {
   "cell_type": "markdown",
   "metadata": {},
   "source": [
    "#### Only court cases at Rechtbank Den Hague"
   ]
  },
  {
   "cell_type": "code",
   "execution_count": null,
   "metadata": {},
   "outputs": [],
   "source": [
    "df_lower_court = df[df.instance == \"['Rechtbank Den Haag']\"]\n",
    "X= df_lower_court [['process', 'considerations', 'instance','Full Text']]\n",
    "y = df_lower_court [['outcome']]\n",
    "X_rus, y_rus = rus.fit_resample(X,y)\n",
    "X_rus['outcome'] = y_rus\n",
    "df_lower_court  = X_rus"
   ]
  },
  {
   "cell_type": "code",
   "execution_count": null,
   "metadata": {},
   "outputs": [],
   "source": [
    "df_lower_court = df_lower_court.sample(frac=1).reset_index(drop=True).copy()"
   ]
  },
  {
   "cell_type": "code",
   "execution_count": null,
   "metadata": {},
   "outputs": [],
   "source": [
    "X,y = df_lower_court['Full Text'], df_lower_court.outcome"
   ]
  },
  {
   "cell_type": "code",
   "execution_count": null,
   "metadata": {},
   "outputs": [],
   "source": [
    "tfidf = TfidfVectorizer(sublinear_tf=True, norm='l2')\n",
    "svm = LinearSVC(random_state=42)\n",
    "pipeline = Pipeline(steps = [('tfidf',tfidf),('svm',svm)])\n",
    "skf_cv = StratifiedKFold(n_splits=5, random_state = 42)\n",
    "rsc = RandomizedSearchCV(pipeline,params,c v= skf_cv,scoring='accuracy', random_state=42,n_jobs=-1)\n",
    "rsc.fit(X,y)\n",
    "print(f'Best CrossValidated accuracy achieved via SVM is : {round(rsc.best_score_*100,2)} %')\n",
    "# Best params for SVM is: \n",
    "rsc.best_params_"
   ]
  },
  {
   "cell_type": "code",
   "execution_count": null,
   "metadata": {},
   "outputs": [],
   "source": [
    "tfidf = TfidfVectorizer(sublinear_tf=True, norm='l2')\n",
    "xgb = XGBClassifier(TREE_METHOD = 'gpu_hist', random_state=42)\n",
    "pipeline_xgb = Pipeline(steps = [('tfidf',tfidf),('xgb',xgb)])\n",
    "skf_cv = StratifiedKFold(n_splits=5, random_state = 42)\n",
    "rsc_xgb = RandomizedSearchCV(pipeline_xgb,params_xgb,cv= skf_cv,scoring='accuracy', random_state=42,n_jobs=-1)\n",
    "rsc_xgb.fit(X,y)\n",
    "print(f'Best CrossValidated accuracy achieved via XGBoost is : {round(rsc_xgb.best_score_*100,2)} %\\n')\n",
    "# Best params for XGBoost is: \n",
    "rsc.best_params_"
   ]
  },
  {
   "cell_type": "markdown",
   "metadata": {},
   "source": [
    "#### Only court cases at Raad van State"
   ]
  },
  {
   "cell_type": "code",
   "execution_count": null,
   "metadata": {},
   "outputs": [],
   "source": [
    "df_higher_court = df[df.instance == \"['Raad van State']\"]\n",
    "X= df_higher_court  [['process', 'considerations', 'instance','Full Text']]\n",
    "y = df_higher_court  [['outcome']]\n",
    "X_rus, y_rus = rus.fit_resample(X,y)\n",
    "X_rus['outcome'] = y_rus\n",
    "df_higher_court  = X_rus"
   ]
  },
  {
   "cell_type": "code",
   "execution_count": null,
   "metadata": {},
   "outputs": [],
   "source": [
    "df_higher_court = df_higher_court.sample(frac=1).reset_index(drop=True).copy()"
   ]
  },
  {
   "cell_type": "code",
   "execution_count": null,
   "metadata": {},
   "outputs": [],
   "source": [
    "X,y = df_higher_court['Full Text'], df_higher_court.outcome"
   ]
  },
  {
   "cell_type": "code",
   "execution_count": null,
   "metadata": {},
   "outputs": [],
   "source": [
    "tfidf = TfidfVectorizer(sublinear_tf=True, norm='l2')\n",
    "svm = LinearSVC(random_state=42)\n",
    "pipeline = Pipeline(steps = [('tfidf',tfidf),('svm',svm)])\n",
    "skf_cv = StratifiedKFold(n_splits=5, random_state = 42)\n",
    "rsc = RandomizedSearchCV(pipeline,params,c v= skf_cv,scoring='accuracy', random_state=42,n_jobs=-1)\n",
    "rsc.fit(X,y)\n",
    "print(f'Best CrossValidated accuracy achieved via SVM is : {round(rsc.best_score_*100,2)} %')\n",
    "# Best params for SVM is: \n",
    "rsc.best_params_"
   ]
  },
  {
   "cell_type": "code",
   "execution_count": null,
   "metadata": {},
   "outputs": [],
   "source": [
    "tfidf = TfidfVectorizer(sublinear_tf=True, norm='l2')\n",
    "xgb = XGBClassifier(TREE_METHOD = 'gpu_hist', random_state=42)\n",
    "pipeline_xgb = Pipeline(steps = [('tfidf',tfidf),('xgb',xgb)])\n",
    "skf_cv = StratifiedKFold(n_splits=5, random_state = 42)\n",
    "rsc_xgb = RandomizedSearchCV(pipeline_xgb,params_xgb,cv= skf_cv,scoring='accuracy', random_state=42,n_jobs=-1)\n",
    "rsc_xgb.fit(X,y)\n",
    "print(f'Best CrossValidated accuracy achieved via XGBoost is : {round(rsc_xgb.best_score_*100,2)} %\\n')\n",
    "# Best params for XGBoost is: \n",
    "rsc.best_params_"
   ]
  }
 ],
 "metadata": {
  "kernelspec": {
   "display_name": "Python 3",
   "language": "python",
   "name": "python3"
  },
  "language_info": {
   "codemirror_mode": {
    "name": "ipython",
    "version": 3
   },
   "file_extension": ".py",
   "mimetype": "text/x-python",
   "name": "python",
   "nbconvert_exporter": "python",
   "pygments_lexer": "ipython3",
   "version": "3.8.5"
  }
 },
 "nbformat": 4,
 "nbformat_minor": 4
}

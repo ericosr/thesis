{
 "cells": [
  {
   "cell_type": "code",
   "execution_count": null,
   "metadata": {},
   "outputs": [],
   "source": [
    "import pandas as pd\n",
    "import numpy as np\n",
    "import re\n",
    "import requests\n",
    "import xmltodict\n",
    "import time\n",
    "import pickle\n",
    "from selenium import webdriver\n",
    "from selenium.webdriver.chrome.options import Options\n",
    "from lxml import html"
   ]
  },
  {
   "cell_type": "code",
   "execution_count": null,
   "metadata": {},
   "outputs": [],
   "source": [
    "#pd.set_option('display.max_colwidth', -1)"
   ]
  },
  {
   "cell_type": "code",
   "execution_count": null,
   "metadata": {},
   "outputs": [],
   "source": [
    "DETAILED_LINK_URL = \"https://data.rechtspraak.nl/uitspraken/content?id={}\"\n"
   ]
  },
  {
   "cell_type": "code",
   "execution_count": null,
   "metadata": {},
   "outputs": [],
   "source": [
    "titles_df = pd.read_csv(\"structured_cases.CSV\")"
   ]
  },
  {
   "cell_type": "code",
   "execution_count": null,
   "metadata": {},
   "outputs": [],
   "source": [
    "ECLI_list = titles_df['ECLI'].tolist()"
   ]
  },
  {
   "cell_type": "code",
   "execution_count": null,
   "metadata": {},
   "outputs": [],
   "source": [
    "def retreive_title(ECLI_list):\n",
    "    \n",
    "    detailed_link_list = [ecli for ecli in ECLI_list]\n",
    "      \n",
    "    text_df = pd.DataFrame({\n",
    "        \"ECLI\": [],\n",
    "        \"full_text\": [],\n",
    "        \"titles\": []\n",
    "\n",
    "    })\n",
    "    \n",
    "    for detailed_link in detailed_link_list:\n",
    "        \n",
    "        ecli_temp = get_ecli_from_detailed_link(detailed_link)\n",
    "\n",
    "        \n",
    "        detailed_sentence = requests.get(\n",
    "            DETAILED_LINK_URL.format(ecli_temp))\n",
    "    \n",
    "        text = get_html_from_detailed_link(detailed_sentence)\n",
    "        \n",
    "        try:\n",
    "            uitspraak = [\n",
    "                x for x in text.getchildren()\n",
    "                if \"uitspraak\" in str(x).lower()\n",
    "            ][0]\n",
    "            \n",
    "            full_text = get_full_text(text)\n",
    "            titles = get_titles_from_html(uitspraak)\n",
    "            \n",
    "        \n",
    "        except IndexError as i:\n",
    "            full_text = [\"No Full Text\"]\n",
    "            \n",
    "        df_temp = pd.DataFrame({\n",
    "            \"ECLI\": [ecli_temp],\n",
    "            \"full_text\": [full_text],\n",
    "            \"titles\": [titles]\n",
    "        })\n",
    "    \n",
    "        text_df = text_df.append(df_temp, ignore_index=True)\n",
    "        \n",
    "    return text_df\n",
    "\n",
    "    \n",
    "    \n",
    "def get_html_from_detailed_link(called_api_page):\n",
    "    try:\n",
    "        detailed_page_element_tree = html.fromstring(called_api_page.content)\n",
    "    except Exception as e:\n",
    "        print(\"{error} happend\".format(error=e))\n",
    "    return detailed_page_element_tree\n",
    "\n",
    "\n",
    "def get_full_text(detailed_sentence):\n",
    "    uitspraak = detailed_sentence.getchildren()[2]\n",
    "    return uitspraak.text_content().lower().replace(\"\\r\\n\", \" \").strip()\n",
    "\n",
    "def get_ecli_from_detailed_link(detailed_link):\n",
    "    try:\n",
    "        return detailed_link.split(\"=\")[-1]\n",
    "    except:\n",
    "        return None\n",
    "    \n",
    "def get_titles_from_html(uitspraak):\n",
    "    try:\n",
    "        sections = [\n",
    "            x for x in uitspraak.getchildren() if \"section\" in str(x).lower()\n",
    "        ]\n",
    "        titles = [\n",
    "            ''.join([\n",
    "                i for i in sec.findall(\"title\")[0].text_content().replace(\n",
    "                    \"\\r\\n      \", \"\").strip() if not i.isdigit()\n",
    "            ]) for sec in sections if sec.findall(\"title\")\n",
    "        ]\n",
    "        return [\n",
    "            t.lower().strip()\n",
    "            for t in titles\n",
    "        ]\n",
    "    except Exception as e:\n",
    "        return [\"No Uitspraak\"]\n",
    "\n"
   ]
  },
  {
   "cell_type": "code",
   "execution_count": null,
   "metadata": {},
   "outputs": [],
   "source": [
    "retreive_title(ECLI_list)"
   ]
  },
  {
   "cell_type": "code",
   "execution_count": null,
   "metadata": {},
   "outputs": [],
   "source": [
    "#retrive the unique titles \n",
    "\n",
    "titles = ['procesverloop', 'overwegingen', 'beslissing']\n",
    "\n",
    "for index, row in titles_df.iterrows():\n",
    "    print(row.titles)\n",
    "    unique_titles = list(set().union(row.titles, titles))\n",
    "    titles = unique_titles"
   ]
  }
 ],
 "metadata": {
  "kernelspec": {
   "display_name": "Python 3",
   "language": "python",
   "name": "python3"
  },
  "language_info": {
   "codemirror_mode": {
    "name": "ipython",
    "version": 3
   },
   "file_extension": ".py",
   "mimetype": "text/x-python",
   "name": "python",
   "nbconvert_exporter": "python",
   "pygments_lexer": "ipython3",
   "version": "3.8.5"
  }
 },
 "nbformat": 4,
 "nbformat_minor": 2
}
